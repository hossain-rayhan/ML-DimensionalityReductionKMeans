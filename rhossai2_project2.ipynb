{
 "cells": [
  {
   "cell_type": "code",
   "execution_count": 1,
   "metadata": {},
   "outputs": [],
   "source": [
    "import csv\n",
    "import re\n",
    "with open('clean_data.csv') as csvfile:\n",
    "    rows = csv.reader(csvfile)\n",
    "    res = list(zip(*rows))\n",
    "\n",
    "n_headerExcluded = 0\n",
    "new_data_list = []\n",
    "for row in res:\n",
    "    new_row = []\n",
    "    for item in row:\n",
    "        new_item = re.sub('[^A-Za-z0-9\\.?]', '', item)\n",
    "        if(new_item == '' or new_item == 'NA'):\n",
    "            new_item = 0\n",
    "        new_row.append(new_item)\n",
    "    new_data_list.append(new_row)\n",
    "\n",
    "\n",
    "k = list(map(list, zip(*new_data_list)))\n",
    "#print(k)\n",
    "\n",
    "import csv\n",
    "with open(\"clean_data_11.csv\", \"w\") as f:\n",
    "    writer = csv.writer(f)\n",
    "    writer.writerows(k)"
   ]
  },
  {
   "cell_type": "code",
   "execution_count": 2,
   "metadata": {},
   "outputs": [
    {
     "data": {
      "text/html": [
       "<div>\n",
       "<style scoped>\n",
       "    .dataframe tbody tr th:only-of-type {\n",
       "        vertical-align: middle;\n",
       "    }\n",
       "\n",
       "    .dataframe tbody tr th {\n",
       "        vertical-align: top;\n",
       "    }\n",
       "\n",
       "    .dataframe thead th {\n",
       "        text-align: right;\n",
       "    }\n",
       "</style>\n",
       "<table border=\"1\" class=\"dataframe\">\n",
       "  <thead>\n",
       "    <tr style=\"text-align: right;\">\n",
       "      <th></th>\n",
       "      <th>IPEDS</th>\n",
       "      <th>BlkTotalStudents</th>\n",
       "      <th>HispTotalStudents</th>\n",
       "      <th>2017USNewstop65</th>\n",
       "      <th>2014MedSchool</th>\n",
       "      <th>VetSchool</th>\n",
       "      <th>TotalEnroll</th>\n",
       "      <th>GradEnroll</th>\n",
       "      <th>Sixyeargraduationrate</th>\n",
       "      <th>ACTSATAvg</th>\n",
       "      <th>...</th>\n",
       "      <th>ProfessDegrees</th>\n",
       "      <th>ACTSAT25</th>\n",
       "      <th>ACTSAT75</th>\n",
       "      <th>StateTuitSt.FTE</th>\n",
       "      <th>AcademicSupportExpenditures</th>\n",
       "      <th>StudentServicesExpenditures</th>\n",
       "      <th>EndowmentFigure</th>\n",
       "      <th>EndowmentperStudentFTE</th>\n",
       "      <th>TotalFaculty.1</th>\n",
       "      <th>TotalTenureTenureTrackFacutly.1</th>\n",
       "    </tr>\n",
       "  </thead>\n",
       "  <tbody>\n",
       "    <tr>\n",
       "      <th>52</th>\n",
       "      <td>153658</td>\n",
       "      <td>3</td>\n",
       "      <td>6</td>\n",
       "      <td>35</td>\n",
       "      <td>1.0</td>\n",
       "      <td>0</td>\n",
       "      <td>30844</td>\n",
       "      <td>24</td>\n",
       "      <td>72</td>\n",
       "      <td>25.5</td>\n",
       "      <td>...</td>\n",
       "      <td>490</td>\n",
       "      <td>23</td>\n",
       "      <td>28</td>\n",
       "      <td>23496</td>\n",
       "      <td>1251356000</td>\n",
       "      <td>46877</td>\n",
       "      <td>1251356000</td>\n",
       "      <td>46877</td>\n",
       "      <td>2320</td>\n",
       "      <td>1391</td>\n",
       "    </tr>\n",
       "    <tr>\n",
       "      <th>53</th>\n",
       "      <td>196088</td>\n",
       "      <td>6</td>\n",
       "      <td>5</td>\n",
       "      <td>43</td>\n",
       "      <td>1.0</td>\n",
       "      <td>0</td>\n",
       "      <td>29796</td>\n",
       "      <td>33</td>\n",
       "      <td>74</td>\n",
       "      <td>25.5</td>\n",
       "      <td>...</td>\n",
       "      <td>686</td>\n",
       "      <td>23</td>\n",
       "      <td>28</td>\n",
       "      <td>25099</td>\n",
       "      <td>624790675</td>\n",
       "      <td>23581</td>\n",
       "      <td>624790675</td>\n",
       "      <td>23581</td>\n",
       "      <td>1597</td>\n",
       "      <td>1128</td>\n",
       "    </tr>\n",
       "    <tr>\n",
       "      <th>54</th>\n",
       "      <td>230764</td>\n",
       "      <td>1</td>\n",
       "      <td>10</td>\n",
       "      <td>52</td>\n",
       "      <td>1.0</td>\n",
       "      <td>0</td>\n",
       "      <td>31592</td>\n",
       "      <td>25</td>\n",
       "      <td>64</td>\n",
       "      <td>24.5</td>\n",
       "      <td>...</td>\n",
       "      <td>383</td>\n",
       "      <td>21</td>\n",
       "      <td>28</td>\n",
       "      <td>22927</td>\n",
       "      <td>723827000</td>\n",
       "      <td>28036</td>\n",
       "      <td>723827000</td>\n",
       "      <td>28036</td>\n",
       "      <td>1712</td>\n",
       "      <td>1141</td>\n",
       "    </tr>\n",
       "    <tr>\n",
       "      <th>55</th>\n",
       "      <td>110671</td>\n",
       "      <td>4</td>\n",
       "      <td>33</td>\n",
       "      <td>58</td>\n",
       "      <td>1.0</td>\n",
       "      <td>0</td>\n",
       "      <td>21385</td>\n",
       "      <td>13</td>\n",
       "      <td>73</td>\n",
       "      <td>24.0</td>\n",
       "      <td>...</td>\n",
       "      <td>0</td>\n",
       "      <td>21</td>\n",
       "      <td>27</td>\n",
       "      <td>23444</td>\n",
       "      <td>136003000</td>\n",
       "      <td>6453</td>\n",
       "      <td>136003000</td>\n",
       "      <td>6453</td>\n",
       "      <td>844</td>\n",
       "      <td>682</td>\n",
       "    </tr>\n",
       "    <tr>\n",
       "      <th>56</th>\n",
       "      <td>104179</td>\n",
       "      <td>4</td>\n",
       "      <td>23</td>\n",
       "      <td>62</td>\n",
       "      <td>1.0</td>\n",
       "      <td>0</td>\n",
       "      <td>42595</td>\n",
       "      <td>22</td>\n",
       "      <td>61</td>\n",
       "      <td>24.0</td>\n",
       "      <td>...</td>\n",
       "      <td>411</td>\n",
       "      <td>0</td>\n",
       "      <td>0</td>\n",
       "      <td>21999</td>\n",
       "      <td>760679000</td>\n",
       "      <td>19705</td>\n",
       "      <td>760679000</td>\n",
       "      <td>19705</td>\n",
       "      <td>1820</td>\n",
       "      <td>1449</td>\n",
       "    </tr>\n",
       "  </tbody>\n",
       "</table>\n",
       "<p>5 rows × 60 columns</p>\n",
       "</div>"
      ],
      "text/plain": [
       "     IPEDS  BlkTotalStudents  HispTotalStudents  2017USNewstop65  \\\n",
       "52  153658                 3                  6               35   \n",
       "53  196088                 6                  5               43   \n",
       "54  230764                 1                 10               52   \n",
       "55  110671                 4                 33               58   \n",
       "56  104179                 4                 23               62   \n",
       "\n",
       "    2014MedSchool  VetSchool  TotalEnroll  GradEnroll  Sixyeargraduationrate  \\\n",
       "52            1.0          0        30844          24                     72   \n",
       "53            1.0          0        29796          33                     74   \n",
       "54            1.0          0        31592          25                     64   \n",
       "55            1.0          0        21385          13                     73   \n",
       "56            1.0          0        42595          22                     61   \n",
       "\n",
       "    ACTSATAvg               ...                 ProfessDegrees  ACTSAT25  \\\n",
       "52       25.5               ...                            490        23   \n",
       "53       25.5               ...                            686        23   \n",
       "54       24.5               ...                            383        21   \n",
       "55       24.0               ...                              0        21   \n",
       "56       24.0               ...                            411         0   \n",
       "\n",
       "    ACTSAT75  StateTuitSt.FTE  AcademicSupportExpenditures  \\\n",
       "52        28            23496                   1251356000   \n",
       "53        28            25099                    624790675   \n",
       "54        28            22927                    723827000   \n",
       "55        27            23444                    136003000   \n",
       "56         0            21999                    760679000   \n",
       "\n",
       "    StudentServicesExpenditures  EndowmentFigure  EndowmentperStudentFTE  \\\n",
       "52                        46877       1251356000                   46877   \n",
       "53                        23581        624790675                   23581   \n",
       "54                        28036        723827000                   28036   \n",
       "55                         6453        136003000                    6453   \n",
       "56                        19705        760679000                   19705   \n",
       "\n",
       "    TotalFaculty.1  TotalTenureTenureTrackFacutly.1  \n",
       "52            2320                             1391  \n",
       "53            1597                             1128  \n",
       "54            1712                             1141  \n",
       "55             844                              682  \n",
       "56            1820                             1449  \n",
       "\n",
       "[5 rows x 60 columns]"
      ]
     },
     "execution_count": 2,
     "metadata": {},
     "output_type": "execute_result"
    }
   ],
   "source": [
    "import pandas as pd\n",
    "import matplotlib.pyplot as plt\n",
    "import numpy as np\n",
    "%matplotlib inline\n",
    "global headers\n",
    "\n",
    "df = pd.read_csv('clean_data_11.csv')\n",
    "\n",
    "#df.columns=['sepal_len', 'sepal_wid', 'petal_len', 'petal_wid', 'class']\n",
    "#df.columns= headers\n",
    "df.dropna(how=\"all\", inplace=True) # drops the empty line at file-end\n",
    "\n",
    "df.tail()\n"
   ]
  },
  {
   "cell_type": "code",
   "execution_count": 3,
   "metadata": {},
   "outputs": [
    {
     "name": "stderr",
     "output_type": "stream",
     "text": [
      "/anaconda3/lib/python3.6/site-packages/ipykernel_launcher.py:1: DeprecationWarning: \n",
      ".ix is deprecated. Please use\n",
      ".loc for label based indexing or\n",
      ".iloc for positional indexing\n",
      "\n",
      "See the documentation here:\n",
      "http://pandas.pydata.org/pandas-docs/stable/indexing.html#ix-indexer-is-deprecated\n",
      "  \"\"\"Entry point for launching an IPython kernel.\n",
      "/anaconda3/lib/python3.6/site-packages/ipykernel_launcher.py:2: DeprecationWarning: \n",
      ".ix is deprecated. Please use\n",
      ".loc for label based indexing or\n",
      ".iloc for positional indexing\n",
      "\n",
      "See the documentation here:\n",
      "http://pandas.pydata.org/pandas-docs/stable/indexing.html#ix-indexer-is-deprecated\n",
      "  \n"
     ]
    }
   ],
   "source": [
    "X = df.ix[:,0:57].values\n",
    "y = df.ix[:,57].values\n",
    "#print(x)\n",
    "#print(y)"
   ]
  },
  {
   "cell_type": "code",
   "execution_count": 4,
   "metadata": {},
   "outputs": [],
   "source": [
    "from sklearn.preprocessing import StandardScaler\n",
    "X_std = StandardScaler().fit_transform(X)"
   ]
  },
  {
   "cell_type": "code",
   "execution_count": 5,
   "metadata": {},
   "outputs": [
    {
     "name": "stdout",
     "output_type": "stream",
     "text": [
      "Covariance matrix \n",
      "[[ 1.01785714e+00  1.25541804e-02 -3.17137467e-01 ...  3.38467789e-01\n",
      "   3.32860105e-01  3.82293976e-01]\n",
      " [ 1.25541804e-02  1.01785714e+00 -3.66737589e-01 ... -1.38642671e-01\n",
      "  -6.92302497e-02 -1.51886338e-01]\n",
      " [-3.17137467e-01 -3.66737589e-01  1.01785714e+00 ... -2.92645194e-04\n",
      "  -1.16418242e-01 -3.46658698e-02]\n",
      " ...\n",
      " [ 3.38467789e-01 -1.38642671e-01 -2.92645194e-04 ...  1.01785714e+00\n",
      "   9.24461915e-01  9.83898841e-01]\n",
      " [ 3.32860105e-01 -6.92302497e-02 -1.16418242e-01 ...  9.24461915e-01\n",
      "   1.01785714e+00  8.84337162e-01]\n",
      " [ 3.82293976e-01 -1.51886338e-01 -3.46658698e-02 ...  9.83898841e-01\n",
      "   8.84337162e-01  1.01785714e+00]]\n"
     ]
    }
   ],
   "source": [
    "import numpy as np\n",
    "mean_vec = np.mean(X_std, axis=0)\n",
    "cov_mat = (X_std - mean_vec).T.dot((X_std - mean_vec)) / (X_std.shape[0]-1)\n",
    "print('Covariance matrix \\n%s' %cov_mat)"
   ]
  },
  {
   "cell_type": "code",
   "execution_count": 6,
   "metadata": {},
   "outputs": [
    {
     "name": "stdout",
     "output_type": "stream",
     "text": [
      "NumPy covariance matrix: \n",
      "[[ 1.01785714e+00  1.25541804e-02 -3.17137467e-01 ...  3.38467789e-01\n",
      "   3.32860105e-01  3.82293976e-01]\n",
      " [ 1.25541804e-02  1.01785714e+00 -3.66737589e-01 ... -1.38642671e-01\n",
      "  -6.92302497e-02 -1.51886338e-01]\n",
      " [-3.17137467e-01 -3.66737589e-01  1.01785714e+00 ... -2.92645194e-04\n",
      "  -1.16418242e-01 -3.46658698e-02]\n",
      " ...\n",
      " [ 3.38467789e-01 -1.38642671e-01 -2.92645194e-04 ...  1.01785714e+00\n",
      "   9.24461915e-01  9.83898841e-01]\n",
      " [ 3.32860105e-01 -6.92302497e-02 -1.16418242e-01 ...  9.24461915e-01\n",
      "   1.01785714e+00  8.84337162e-01]\n",
      " [ 3.82293976e-01 -1.51886338e-01 -3.46658698e-02 ...  9.83898841e-01\n",
      "   8.84337162e-01  1.01785714e+00]]\n"
     ]
    }
   ],
   "source": [
    "print('NumPy covariance matrix: \\n%s' %np.cov(X_std.T))"
   ]
  },
  {
   "cell_type": "code",
   "execution_count": 7,
   "metadata": {},
   "outputs": [
    {
     "name": "stdout",
     "output_type": "stream",
     "text": [
      "Eigenvectors \n",
      "[[ 6.50875253e-02  4.08592563e-02  1.59321981e-01 ...  4.97220394e-06\n",
      "  -3.35473284e-11  3.88573351e-11]\n",
      " [-6.70815436e-02  3.41510157e-02  8.87068473e-02 ...  5.50223290e-06\n",
      "  -3.61540071e-11  4.32864129e-11]\n",
      " [ 1.86158055e-02  2.40483112e-02 -2.04253135e-01 ...  1.44122809e-05\n",
      "  -9.37086672e-11  1.13470257e-10]\n",
      " ...\n",
      " [ 1.44986056e-01  2.18295677e-02  4.04055056e-02 ... -1.47480050e-04\n",
      "   9.68666532e-10 -1.16457266e-09]\n",
      " [ 1.18605998e-01 -7.64746404e-02  9.64872515e-02 ...  1.06859577e-04\n",
      "  -7.03952605e-10  8.42707270e-10]\n",
      " [ 1.50693939e-01  9.50854163e-03  3.69113167e-02 ...  5.66430088e-05\n",
      "  -3.70390440e-10  4.48166355e-10]]\n",
      "\n",
      "Eigenvalues \n",
      "[ 2.20300202e+01  6.40795429e+00  5.54278116e+00  4.17258343e+00\n",
      "  2.90035028e+00  2.53880009e+00  2.12109666e+00  1.78163578e+00\n",
      "  1.54667733e+00  1.38644628e+00  1.03735224e+00  9.76819752e-01\n",
      "  7.19058592e-01  6.82524670e-01  5.81359631e-01  4.86140893e-01\n",
      "  4.03861934e-01  3.65926995e-01  3.48236331e-01  2.71825717e-01\n",
      "  2.44071910e-01  2.03361668e-01  1.77682173e-01  1.54899476e-01\n",
      "  1.42303074e-01  1.17961942e-01  1.07971168e-01  9.49337245e-02\n",
      "  7.01921546e-02  6.84069348e-02  6.13085777e-02  4.85065189e-02\n",
      "  4.29180805e-02  3.73205345e-02  2.73587191e-02  2.29951695e-02\n",
      "  1.98996146e-02  1.66150843e-02  1.38896851e-02  1.04905370e-02\n",
      "  7.99163959e-03  6.70181376e-03  4.49739737e-03  4.23179881e-03\n",
      "  3.33048066e-03  2.81197871e-03  1.48772181e-03  1.02900314e-03\n",
      "  5.96866906e-04  3.89351817e-04  1.36810115e-04  7.80684768e-05\n",
      "  3.05103381e-05  4.68148041e-06  3.17094899e-11 -8.55393662e-17\n",
      " -7.01570396e-16]\n"
     ]
    }
   ],
   "source": [
    "cov_mat = np.cov(X_std.T)\n",
    "\n",
    "eig_vals, eig_vecs = np.linalg.eig(cov_mat)\n",
    "\n",
    "print('Eigenvectors \\n%s' %eig_vecs)\n",
    "print('\\nEigenvalues \\n%s' %eig_vals)"
   ]
  },
  {
   "cell_type": "code",
   "execution_count": 8,
   "metadata": {},
   "outputs": [
    {
     "name": "stdout",
     "output_type": "stream",
     "text": [
      "Eigenvectors \n",
      "[[ 6.50875253e-02  4.08592563e-02  1.59321981e-01 ... -4.97220327e-06\n",
      "   1.99426611e-11 -1.17704261e-10]\n",
      " [-6.70815436e-02  3.41510157e-02  8.87068473e-02 ... -5.50223345e-06\n",
      "   2.20139816e-11 -1.30242087e-10]\n",
      " [ 1.86158055e-02  2.40483112e-02 -2.04253135e-01 ... -1.44122832e-05\n",
      "   5.75643074e-11 -3.40998493e-10]\n",
      " ...\n",
      " [ 1.44986056e-01  2.18295677e-02  4.04055056e-02 ...  1.47480060e-04\n",
      "  -5.94311138e-10  3.48889622e-09]\n",
      " [ 1.18605998e-01 -7.64746404e-02  9.64872515e-02 ... -1.06859582e-04\n",
      "   4.30297383e-10 -2.52818228e-09]\n",
      " [ 1.50693939e-01  9.50854163e-03  3.69113167e-02 ... -5.66430147e-05\n",
      "   2.28441286e-10 -1.33991236e-09]]\n",
      "\n",
      "Eigenvalues \n",
      "[ 2.16435286e+01  6.29553404e+00  5.44553938e+00  4.09938021e+00\n",
      "  2.84946694e+00  2.49425974e+00  2.08388444e+00  1.75037901e+00\n",
      "  1.51954264e+00  1.36212266e+00  1.01915308e+00  9.59682563e-01\n",
      "  7.06443529e-01  6.70550553e-01  5.71160340e-01  4.77612105e-01\n",
      "  3.96776636e-01  3.59507224e-01  3.42126922e-01  2.67056844e-01\n",
      "  2.39789947e-01  1.99793919e-01  1.74564942e-01  1.52181942e-01\n",
      "  1.39806529e-01  1.15892434e-01  1.06076937e-01  9.32682205e-02\n",
      "  6.89607133e-02  6.72068131e-02  6.02329886e-02  4.76555274e-02\n",
      "  4.21651318e-02  3.66657883e-02  2.68787416e-02  2.25917455e-02\n",
      "  1.95504986e-02  1.63235916e-02  1.36460064e-02  1.03064925e-02\n",
      "  7.85143539e-03  6.58423808e-03  4.41849567e-03  4.15755672e-03\n",
      "  3.27205118e-03  2.76264575e-03  1.46162143e-03  1.01095046e-03\n",
      "  5.86395557e-04  3.82521084e-04  1.34409938e-04  7.66988544e-05\n",
      "  2.99750690e-05  4.59934918e-06  3.11533424e-11  2.35339125e-17\n",
      " -3.35367944e-16]\n"
     ]
    }
   ],
   "source": [
    "cor_mat1 = np.corrcoef(X_std.T)\n",
    "\n",
    "eig_vals, eig_vecs = np.linalg.eig(cor_mat1)\n",
    "\n",
    "print('Eigenvectors \\n%s' %eig_vecs)\n",
    "print('\\nEigenvalues \\n%s' %eig_vals)"
   ]
  },
  {
   "cell_type": "code",
   "execution_count": 9,
   "metadata": {},
   "outputs": [
    {
     "name": "stdout",
     "output_type": "stream",
     "text": [
      "Eigenvectors \n",
      "[[ 6.50875253e-02  4.08592563e-02  1.59321981e-01 ... -4.97220501e-06\n",
      "   1.24482779e-10 -1.19546551e-11]\n",
      " [-6.70815436e-02  3.41510157e-02  8.87068473e-02 ... -5.50223334e-06\n",
      "   1.37209388e-10 -1.28497850e-11]\n",
      " [ 1.86158055e-02  2.40483112e-02 -2.04253135e-01 ... -1.44122788e-05\n",
      "   3.59114961e-10 -3.33155307e-11]\n",
      " ...\n",
      " [ 1.44986056e-01  2.18295677e-02  4.04055056e-02 ...  1.47480029e-04\n",
      "  -3.67929666e-09  3.41451138e-10]\n",
      " [ 1.18605998e-01 -7.64746404e-02  9.64872515e-02 ... -1.06859568e-04\n",
      "   2.66692242e-09 -2.48525261e-10]\n",
      " [ 1.50693939e-01  9.50854163e-03  3.69113167e-02 ... -5.66429979e-05\n",
      "   1.41224701e-09 -1.30230269e-10]]\n",
      "\n",
      "Eigenvalues \n",
      "[ 2.16435286e+01  6.29553404e+00  5.44553938e+00  4.09938021e+00\n",
      "  2.84946694e+00  2.49425974e+00  2.08388444e+00  1.75037901e+00\n",
      "  1.51954264e+00  1.36212266e+00  1.01915308e+00  9.59682563e-01\n",
      "  7.06443529e-01  6.70550553e-01  5.71160340e-01  4.77612105e-01\n",
      "  3.96776636e-01  3.59507224e-01  3.42126922e-01  2.67056844e-01\n",
      "  2.39789947e-01  1.99793919e-01  1.74564942e-01  1.52181942e-01\n",
      "  1.39806529e-01  1.15892434e-01  1.06076937e-01  9.32682205e-02\n",
      "  6.89607133e-02  6.72068131e-02  6.02329886e-02  4.76555274e-02\n",
      "  4.21651318e-02  3.66657883e-02  2.68787416e-02  2.25917455e-02\n",
      "  1.95504986e-02  1.63235916e-02  1.36460064e-02  1.03064925e-02\n",
      "  7.85143539e-03  6.58423808e-03  4.41849567e-03  4.15755672e-03\n",
      "  3.27205118e-03  2.76264575e-03  1.46162143e-03  1.01095046e-03\n",
      "  5.86395557e-04  3.82521084e-04  1.34409938e-04  7.66988544e-05\n",
      "  2.99750690e-05  4.59934918e-06  3.11524485e-11  2.51620029e-16\n",
      " -3.82992986e-16]\n"
     ]
    }
   ],
   "source": [
    "cor_mat2 = np.corrcoef(X.T)\n",
    "\n",
    "eig_vals, eig_vecs = np.linalg.eig(cor_mat2)\n",
    "\n",
    "print('Eigenvectors \\n%s' %eig_vecs)\n",
    "print('\\nEigenvalues \\n%s' %eig_vals)"
   ]
  },
  {
   "cell_type": "code",
   "execution_count": 10,
   "metadata": {},
   "outputs": [
    {
     "name": "stdout",
     "output_type": "stream",
     "text": [
      "[35.123797237083785, 18.943216201846955, 17.618051672500467, 15.28609407679539, 12.744395453048583, 11.923623822129574, 10.898688591785485, 9.98857366356613, 9.306660552009363, 8.811412587207414, 7.621792795230936, 7.396073694083013, 6.345650570515741, 6.182344340162978, 5.705798747897544, 5.217651769607282, 4.75565645065161, 4.526799282763756, 4.416020216377347, 3.901568932612786, 3.6970294812973608, 3.374648630664953, 3.1543940261077084, 2.945228457296528, 2.8229367962960104, 2.57018846861212, 2.4589398941024165, 2.3057078239827993, 1.9826146012115426, 1.9572399818874062, 1.852911317229088, 1.6481398785760988, 1.5502943303366443, 1.4456659129462748, 1.2377755334710527, 1.1347816929708978, 1.0556412356987226, 0.9645956257712373, 0.8819423820325419, 0.7664659645273308, 0.668978188909024, 0.6126186174324924, 0.5018508273724668, 0.4868066691652773, 0.4318644659788383, 0.3968259158481827, 0.28863891211688847, 0.2400503613588874, 0.18282381335093778, 0.14766076582481058, 0.08752923202397353, 0.06611985104468378, 0.04133496015290932, 0.01619144536506743, 4.2139595481277214e-05, 1.462193147400972e-14, 2.705924012073457e-15]\n",
      "[0, 1, 2, 3, 4, 5, 6, 7, 8, 9, 10, 11, 12, 13, 14, 15, 16, 17, 18, 19, 20, 21, 22, 23, 24, 25, 26, 27, 28, 29, 30, 31, 32, 33, 34, 35, 36, 37, 38, 39, 40, 41, 42, 43, 44, 45, 46, 47, 48, 49, 50, 51, 52, 53, 54, 55, 56]\n"
     ]
    },
    {
     "data": {
      "image/png": "[encoded data removed]",
      "text/plain": [
       "<Figure size 432x288 with 1 Axes>"
      ]
     },
     "metadata": {},
     "output_type": "display_data"
    }
   ],
   "source": [
    "u,s,v = np.linalg.svd(X_std.T)\n",
    "s\n",
    "from matplotlib import pyplot as plt\n",
    "\n",
    "k_array = []\n",
    "cost_array = []\n",
    "# Train k-Means with k values in [2,10] and calculate WSSSE for each clustering\n",
    "for k in range(0,len(s)):\n",
    "    cost_array.append(s[k])\n",
    "    k_array.append(k)\n",
    "print(cost_array)\n",
    "print(k_array)\n",
    "plt.scatter(k_array, cost_array, c = 'blue')\n",
    "plt.title(\"Cost Value\")\n",
    "plt.show()"
   ]
  },
  {
   "cell_type": "code",
   "execution_count": 11,
   "metadata": {},
   "outputs": [
    {
     "name": "stdout",
     "output_type": "stream",
     "text": [
      "Eigenvalues in descending order:\n",
      "21.64352863775041\n",
      "6.2955340363143355\n",
      "5.445539381313991\n",
      "4.099380212712964\n",
      "2.849466937959404\n",
      "2.4942597377483637\n",
      "2.0838844389599123\n",
      "1.7503790146050393\n",
      "1.5195426426373189\n",
      "1.3621226628420573\n",
      "1.0191530774286732\n",
      "0.9596825629527502\n",
      "0.7064435291769651\n",
      "0.670550553339391\n",
      "0.5711603395001607\n",
      "0.47761210506817575\n",
      "0.3967766364320066\n",
      "0.3595072236215871\n",
      "0.3421269219553242\n",
      "0.2670568444899871\n",
      "0.23978994711547075\n",
      "0.19979391895524393\n",
      "0.17456494161305286\n",
      "0.1521819415029695\n",
      "0.1398065290505613\n",
      "0.11589243445941602\n",
      "0.10607693689137601\n",
      "0.09326822051886906\n",
      "0.06896071327960052\n",
      "0.06720681309997553\n",
      "0.06023298858799379\n",
      "0.04765552735706704\n",
      "0.042165131766209236\n",
      "0.03666578827815401\n",
      "0.026878741601044705\n",
      "0.02259174545091074\n",
      "0.01955049857030724\n",
      "0.016323591601000532\n",
      "0.013646006407460397\n",
      "0.010306492539979275\n",
      "0.007851435390105523\n",
      "0.00658423807762951\n",
      "0.004418495665516556\n",
      "0.004157556721820785\n",
      "0.0032720511750032955\n",
      "0.0027626457454166175\n",
      "0.0014616214313686049\n",
      "0.0010109504559391127\n",
      "0.0005863955566339304\n",
      "0.0003825210835785652\n",
      "0.00013440993787167636\n",
      "7.669885442393725e-05\n",
      "2.9975068961620804e-05\n",
      "4.599349175836533e-06\n",
      "3.115244847794773e-11\n",
      "3.8299298586836023e-16\n",
      "2.516200287682956e-16\n"
     ]
    }
   ],
   "source": [
    "# Make a list of (eigenvalue, eigenvector) tuples\n",
    "eig_pairs = [(np.abs(eig_vals[i]), eig_vecs[:,i]) for i in range(len(eig_vals))]\n",
    "\n",
    "# Sort the (eigenvalue, eigenvector) tuples from high to low\n",
    "eig_pairs.sort()\n",
    "eig_pairs.reverse()\n",
    "\n",
    "# Visually confirm that the list is correctly sorted by decreasing eigenvalues\n",
    "print('Eigenvalues in descending order:')\n",
    "for i in eig_pairs:\n",
    "    print(i[0])"
   ]
  },
  {
   "cell_type": "code",
   "execution_count": 12,
   "metadata": {},
   "outputs": [
    {
     "name": "stdout",
     "output_type": "stream",
     "text": [
      "Matrix W:\n",
      " [[ 0.06508753  0.04085926]\n",
      " [-0.06708154  0.03415102]\n",
      " [ 0.01861581  0.02404831]\n",
      " [-0.14866588  0.18116446]\n",
      " [ 0.12042152 -0.03446476]\n",
      " [-0.00319155  0.13662438]\n",
      " [ 0.15807549  0.25051748]\n",
      " [ 0.12591157 -0.1030639 ]\n",
      " [ 0.14217838 -0.18160201]\n",
      " [ 0.13038281 -0.20858324]\n",
      " [-0.11475842  0.22227536]\n",
      " [ 0.13680204 -0.17236357]\n",
      " [-0.04435648 -0.00949793]\n",
      " [-0.10881852  0.03702422]\n",
      " [ 0.13063403 -0.03297768]\n",
      " [ 0.19505673 -0.00917574]\n",
      " [ 0.12939333 -0.1998376 ]\n",
      " [ 0.12512074  0.11582258]\n",
      " [ 0.13485027  0.06725487]\n",
      " [-0.04418533  0.12459455]\n",
      " [-0.08895925  0.11775511]\n",
      " [-0.09762176  0.17300752]\n",
      " [ 0.15164916 -0.00498745]\n",
      " [ 0.19310817 -0.03729638]\n",
      " [-0.06164351  0.17742827]\n",
      " [ 0.17837011  0.02493912]\n",
      " [ 0.18204853 -0.0723386 ]\n",
      " [-0.12331496  0.07488929]\n",
      " [ 0.1621376   0.2274743 ]\n",
      " [ 0.18482371  0.1565979 ]\n",
      " [ 0.17924094 -0.06963983]\n",
      " [ 0.17850169 -0.06760066]\n",
      " [ 0.13372922 -0.02955663]\n",
      " [ 0.04620177  0.17342323]\n",
      " [ 0.19168672  0.08391039]\n",
      " [ 0.18552347  0.02297497]\n",
      " [-0.08461275  0.05013201]\n",
      " [-0.03440247  0.07086622]\n",
      " [ 0.07256273 -0.04049269]\n",
      " [ 0.03713322 -0.12862864]\n",
      " [ 0.13430343 -0.12170359]\n",
      " [ 0.1228221   0.27964191]\n",
      " [ 0.18842837  0.11033288]\n",
      " [ 0.16295568  0.21265085]\n",
      " [ 0.04881691  0.25297986]\n",
      " [ 0.02110722  0.18690111]\n",
      " [ 0.18337209  0.11342755]\n",
      " [ 0.15913739  0.17570945]\n",
      " [ 0.17733855  0.09034851]\n",
      " [ 0.19548147  0.06212633]\n",
      " [ 0.15025108  0.08263083]\n",
      " [ 0.07891383 -0.19097587]\n",
      " [ 0.05909144 -0.19020839]\n",
      " [ 0.11785784 -0.09911284]\n",
      " [ 0.14498606  0.02182957]\n",
      " [ 0.118606   -0.07647464]\n",
      " [ 0.15069394  0.00950854]]\n"
     ]
    }
   ],
   "source": [
    "matrix_w = np.hstack((eig_pairs[0][1].reshape(57,1), \n",
    "                      eig_pairs[1][1].reshape(57,1)))\n",
    "\n",
    "print('Matrix W:\\n', matrix_w)\n",
    "\n"
   ]
  },
  {
   "cell_type": "code",
   "execution_count": 13,
   "metadata": {},
   "outputs": [
    {
     "data": {
      "image/png": "[encoded data removed]",
      "text/plain": [
       "<Figure size 432x288 with 1 Axes>"
      ]
     },
     "metadata": {},
     "output_type": "display_data"
    }
   ],
   "source": [
    "from matplotlib import pyplot as plt\n",
    "Y = X_std.dot(matrix_w)\n",
    "\n",
    "data = Y\n",
    "plt.scatter(data[:,0], data[:,1], c='red', s=16)\n",
    "# Define axis labels and plot title\n",
    "plt.xlabel('PC-1')\n",
    "plt.ylabel('PC-2')\n",
    "plt.title('University Peers Info')\n",
    "plt.show()"
   ]
  },
  {
   "cell_type": "code",
   "execution_count": 53,
   "metadata": {},
   "outputs": [],
   "source": [
    "def k_mean_cluster(data, k):\n",
    "    randi = np.random.randint(0, len(data), size=k)\n",
    "    clusters = []\n",
    "    m = []\n",
    "    num_of_iter = 0\n",
    "    MAX = 10000\n",
    "    for i in randi:\n",
    "        m.append(data[i])\n",
    "\n",
    "    while num_of_iter != MAX:\n",
    "        clusters = [[] for i in range(k)]\n",
    "        b = list(range(len(data)))\n",
    "        m_new = []\n",
    "\n",
    "        # find nearest m\n",
    "        for i, x in enumerate(data):\n",
    "            dist = []\n",
    "            for j in m:\n",
    "                dist.append(np.linalg.norm(np.array(x) - np.array(j)))\n",
    "            label = dist.index(min(dist))\n",
    "            clusters[label].append(x)\n",
    "            b[i] = label\n",
    "\n",
    "        # compute new m\n",
    "        for c in clusters:\n",
    "            if len(c) == 0:\n",
    "                m_new.append(data[np.random.randint(0, len(data), size=1)[0]])\n",
    "            else:\n",
    "                m_new.append(list(np.mean(c, axis=0)))\n",
    "\n",
    "        num_of_iter += 1\n",
    "\n",
    "        if np.array_equal(m, np.array(m_new)):\n",
    "            break\n",
    "\n",
    "        m = m_new\n",
    "\n",
    "    colors = ['red', 'blue', 'orange', 'black', 'green', 'purple', 'pink', 'brown', 'darkred', 'm']\n",
    "    for i in range(len(data)):\n",
    "        plt.scatter(data[i, 0], data[i, 1], color=colors[b[i]], marker='.', s = 64)\n",
    "\n",
    "\n",
    "    if num_of_iter == MAX:\n",
    "        print(\"Too many iterations\", num_of_iter)\n",
    "    else:\n",
    "        print(\"Converged\", num_of_iter)\n",
    "        \n",
    "    return [dunn_index(clusters), num_of_iter]"
   ]
  },
  {
   "cell_type": "code",
   "execution_count": 54,
   "metadata": {},
   "outputs": [
    {
     "name": "stdout",
     "output_type": "stream",
     "text": [
      "Converged 14\n"
     ]
    },
    {
     "data": {
      "text/plain": [
       "[0.3905076752787912, 14]"
      ]
     },
     "execution_count": 54,
     "metadata": {},
     "output_type": "execute_result"
    },
    {
     "data": {
      "image/png": "[encoded data removed]",
      "text/plain": [
       "<Figure size 432x288 with 1 Axes>"
      ]
     },
     "metadata": {},
     "output_type": "display_data"
    }
   ],
   "source": [
    "k_mean_cluster(data, 4)"
   ]
  },
  {
   "cell_type": "code",
   "execution_count": 46,
   "metadata": {},
   "outputs": [
    {
     "name": "stdout",
     "output_type": "stream",
     "text": [
      "Converged 4\n",
      "[0.4821818962425446, 4]\n"
     ]
    },
    {
     "data": {
      "image/png": "[encoded data removed]",
      "text/plain": [
       "<Figure size 432x288 with 1 Axes>"
      ]
     },
     "metadata": {},
     "output_type": "display_data"
    }
   ],
   "source": [
    "x = k_mean_cluster(data, 3)\n",
    "print(x)"
   ]
  },
  {
   "cell_type": "code",
   "execution_count": 45,
   "metadata": {},
   "outputs": [
    {
     "name": "stdout",
     "output_type": "stream",
     "text": [
      "Converged 10\n",
      "[0.28985675342650447, 10]\n"
     ]
    },
    {
     "data": {
      "image/png": "[encoded data removed]",
      "text/plain": [
       "<Figure size 432x288 with 1 Axes>"
      ]
     },
     "metadata": {},
     "output_type": "display_data"
    }
   ],
   "source": [
    "x = k_mean_cluster(data, 5)\n",
    "print(x)"
   ]
  },
  {
   "cell_type": "code",
   "execution_count": 44,
   "metadata": {},
   "outputs": [
    {
     "name": "stdout",
     "output_type": "stream",
     "text": [
      "Converged 7\n",
      "[0.33219876647423224, 7]\n"
     ]
    },
    {
     "data": {
      "image/png": "[encoded data removed]",
      "text/plain": [
       "<Figure size 432x288 with 1 Axes>"
      ]
     },
     "metadata": {},
     "output_type": "display_data"
    }
   ],
   "source": [
    "x = k_mean_cluster(data, 6)\n",
    "print(x)"
   ]
  },
  {
   "cell_type": "code",
   "execution_count": 43,
   "metadata": {},
   "outputs": [
    {
     "name": "stdout",
     "output_type": "stream",
     "text": [
      "Converged 12\n",
      "[0.41114000078642426, 12]\n"
     ]
    },
    {
     "data": {
      "image/png": "[encoded data removed]",
      "text/plain": [
       "<Figure size 432x288 with 1 Axes>"
      ]
     },
     "metadata": {},
     "output_type": "display_data"
    }
   ],
   "source": [
    "x = k_mean_cluster(data, 10)\n",
    "print(x)"
   ]
  },
  {
   "cell_type": "code",
   "execution_count": 55,
   "metadata": {},
   "outputs": [],
   "source": [
    "#For this part of my project, I took direct help from web\n",
    "def dunn_index(clusters):\n",
    "    intra = []\n",
    "    inter = []\n",
    "\n",
    "    for i, c in enumerate(clusters):\n",
    "        # calculate intra distance within each cluster\n",
    "        if len(c) == 1:\n",
    "            intra.append(0)\n",
    "            continue\n",
    "        dist = []\n",
    "        x1 = 0\n",
    "        while x1 < (len(c)-1):\n",
    "            x2 = x1+1\n",
    "            while x2 < len(c):\n",
    "                dist.append(np.linalg.norm(np.array(c[x1]) - np.array(c[x2])))\n",
    "                x2 += 1\n",
    "            x1 += 1\n",
    "        intra.append(max(dist))\n",
    "\n",
    "        # calculate inter distance within all clusters\n",
    "        for j in range(i+1, len(clusters)):\n",
    "            mean1 = list(np.mean(clusters[i], axis=0))\n",
    "            mean2 = list(np.mean(clusters[j], axis=0))\n",
    "            inter.append(np.linalg.norm(np.array(mean1) - np.array(mean2)))\n",
    "\n",
    "    return min(inter)/max(intra)"
   ]
  },
  {
   "cell_type": "code",
   "execution_count": 20,
   "metadata": {},
   "outputs": [],
   "source": [
    "import csv\n",
    "import re\n",
    "with open('IPEDS-big-trimmed.csv') as csvfile:\n",
    "    rows = csv.reader(csvfile)\n",
    "    res = list(zip(*rows))\n",
    "\n",
    "n_headerExcluded = 0\n",
    "new_data_list = []\n",
    "for row in res:\n",
    "    new_row = []\n",
    "    for item in row:\n",
    "        new_item = re.sub('[^A-Za-z0-9\\.?]', '', item)\n",
    "        if(new_item == '' or new_item == 'NA'):\n",
    "            new_item = 0\n",
    "        new_row.append(new_item)\n",
    "    new_data_list.append(new_row)\n",
    "\n",
    "\n",
    "k = list(map(list, zip(*new_data_list)))\n",
    "#print(k)\n",
    "\n",
    "import csv\n",
    "with open(\"clean_data_21.csv\", \"w\") as f:\n",
    "    writer = csv.writer(f)\n",
    "    writer.writerows(k)"
   ]
  },
  {
   "cell_type": "code",
   "execution_count": 21,
   "metadata": {},
   "outputs": [
    {
     "data": {
      "text/html": [
       "<div>\n",
       "<style scoped>\n",
       "    .dataframe tbody tr th:only-of-type {\n",
       "        vertical-align: middle;\n",
       "    }\n",
       "\n",
       "    .dataframe tbody tr th {\n",
       "        vertical-align: top;\n",
       "    }\n",
       "\n",
       "    .dataframe thead th {\n",
       "        text-align: right;\n",
       "    }\n",
       "</style>\n",
       "<table border=\"1\" class=\"dataframe\">\n",
       "  <thead>\n",
       "    <tr style=\"text-align: right;\">\n",
       "      <th></th>\n",
       "      <th>UnitID</th>\n",
       "      <th>InstitutionName</th>\n",
       "      <th>Averagenetpricestudentsawardedgrantorscholarshipaid201516SFA1516</th>\n",
       "      <th>PercentoffulltimefirsttimeundergraduatesawardedanyfinancialaidSFA1516</th>\n",
       "      <th>AverageamountoffederalstatelocalorinstitutionalgrantaidawardedSFA1516</th>\n",
       "      <th>Totalpriceforinstatestudentslivingoncampus201617DRVIC2016</th>\n",
       "      <th>Totalpriceforoutofstatestudentslivingoncampus201617DRVIC2016</th>\n",
       "      <th>PercentadmittedtotalDRVADM2016</th>\n",
       "      <th>PercentadmittedmenDRVADM2016</th>\n",
       "      <th>PercentadmittedwomenDRVADM2016</th>\n",
       "      <th>...</th>\n",
       "      <th>FulltimeenrollmentDRVEF2016</th>\n",
       "      <th>ParttimeenrollmentDRVEF2016</th>\n",
       "      <th>GraduationratetotalcohortDRVGR2016</th>\n",
       "      <th>GraduationratemenDRVGR2016</th>\n",
       "      <th>GraduationratewomenDRVGR2016</th>\n",
       "      <th>GraduationrateBachelordegreewithin4yearstotalDRVGR2016</th>\n",
       "      <th>GraduationrateBachelordegreewithin5yearstotalDRVGR2016</th>\n",
       "      <th>GraduationrateBachelordegreewithin6yearstotalDRVGR2016</th>\n",
       "      <th>CorerevenuestotaldollarsDFR2005</th>\n",
       "      <th>TuitionandfeesasapercentofcorerevenuesDFR2005</th>\n",
       "    </tr>\n",
       "  </thead>\n",
       "  <tbody>\n",
       "    <tr>\n",
       "      <th>2153</th>\n",
       "      <td>181853</td>\n",
       "      <td>YorkCollege</td>\n",
       "      <td>0</td>\n",
       "      <td>97</td>\n",
       "      <td>10379</td>\n",
       "      <td>26750</td>\n",
       "      <td>26750</td>\n",
       "      <td>50</td>\n",
       "      <td>57</td>\n",
       "      <td>45</td>\n",
       "      <td>...</td>\n",
       "      <td>372</td>\n",
       "      <td>52</td>\n",
       "      <td>49</td>\n",
       "      <td>36</td>\n",
       "      <td>59</td>\n",
       "      <td>42</td>\n",
       "      <td>60</td>\n",
       "      <td>68</td>\n",
       "      <td>5066337</td>\n",
       "      <td>61</td>\n",
       "    </tr>\n",
       "    <tr>\n",
       "      <th>2154</th>\n",
       "      <td>217059</td>\n",
       "      <td>YorkCollegeofPennsylvania</td>\n",
       "      <td>0</td>\n",
       "      <td>99</td>\n",
       "      <td>7503</td>\n",
       "      <td>32440</td>\n",
       "      <td>32440</td>\n",
       "      <td>61</td>\n",
       "      <td>63</td>\n",
       "      <td>60</td>\n",
       "      <td>...</td>\n",
       "      <td>3891</td>\n",
       "      <td>612</td>\n",
       "      <td>61</td>\n",
       "      <td>55</td>\n",
       "      <td>66</td>\n",
       "      <td>39</td>\n",
       "      <td>57</td>\n",
       "      <td>60</td>\n",
       "      <td>53435412</td>\n",
       "      <td>76</td>\n",
       "    </tr>\n",
       "    <tr>\n",
       "      <th>2155</th>\n",
       "      <td>141361</td>\n",
       "      <td>YoungHarrisCollege</td>\n",
       "      <td>0</td>\n",
       "      <td>100</td>\n",
       "      <td>21288</td>\n",
       "      <td>42455</td>\n",
       "      <td>42455</td>\n",
       "      <td>55</td>\n",
       "      <td>58</td>\n",
       "      <td>53</td>\n",
       "      <td>...</td>\n",
       "      <td>1109</td>\n",
       "      <td>91</td>\n",
       "      <td>47</td>\n",
       "      <td>37</td>\n",
       "      <td>53</td>\n",
       "      <td>39</td>\n",
       "      <td>42</td>\n",
       "      <td>42</td>\n",
       "      <td>14231078</td>\n",
       "      <td>30</td>\n",
       "    </tr>\n",
       "    <tr>\n",
       "      <th>2156</th>\n",
       "      <td>206695</td>\n",
       "      <td>YoungstownStateUniversity</td>\n",
       "      <td>11271</td>\n",
       "      <td>97</td>\n",
       "      <td>7258</td>\n",
       "      <td>22042</td>\n",
       "      <td>22282</td>\n",
       "      <td>67</td>\n",
       "      <td>66</td>\n",
       "      <td>68</td>\n",
       "      <td>...</td>\n",
       "      <td>9497</td>\n",
       "      <td>3146</td>\n",
       "      <td>30</td>\n",
       "      <td>29</td>\n",
       "      <td>32</td>\n",
       "      <td>11</td>\n",
       "      <td>25</td>\n",
       "      <td>31</td>\n",
       "      <td>153729326</td>\n",
       "      <td>41</td>\n",
       "    </tr>\n",
       "    <tr>\n",
       "      <th>2157</th>\n",
       "      <td>458575</td>\n",
       "      <td>ZaytunaCollege</td>\n",
       "      <td>0</td>\n",
       "      <td>50</td>\n",
       "      <td>31175</td>\n",
       "      <td>38460</td>\n",
       "      <td>38460</td>\n",
       "      <td>68</td>\n",
       "      <td>61</td>\n",
       "      <td>74</td>\n",
       "      <td>...</td>\n",
       "      <td>61</td>\n",
       "      <td>0</td>\n",
       "      <td>50</td>\n",
       "      <td>50</td>\n",
       "      <td>50</td>\n",
       "      <td>50</td>\n",
       "      <td>50</td>\n",
       "      <td>50</td>\n",
       "      <td>0</td>\n",
       "      <td>0</td>\n",
       "    </tr>\n",
       "  </tbody>\n",
       "</table>\n",
       "<p>5 rows × 36 columns</p>\n",
       "</div>"
      ],
      "text/plain": [
       "      UnitID            InstitutionName  \\\n",
       "2153  181853                YorkCollege   \n",
       "2154  217059  YorkCollegeofPennsylvania   \n",
       "2155  141361         YoungHarrisCollege   \n",
       "2156  206695  YoungstownStateUniversity   \n",
       "2157  458575             ZaytunaCollege   \n",
       "\n",
       "      Averagenetpricestudentsawardedgrantorscholarshipaid201516SFA1516  \\\n",
       "2153                                                  0                  \n",
       "2154                                                  0                  \n",
       "2155                                                  0                  \n",
       "2156                                              11271                  \n",
       "2157                                                  0                  \n",
       "\n",
       "      PercentoffulltimefirsttimeundergraduatesawardedanyfinancialaidSFA1516  \\\n",
       "2153                                                 97                       \n",
       "2154                                                 99                       \n",
       "2155                                                100                       \n",
       "2156                                                 97                       \n",
       "2157                                                 50                       \n",
       "\n",
       "      AverageamountoffederalstatelocalorinstitutionalgrantaidawardedSFA1516  \\\n",
       "2153                                              10379                       \n",
       "2154                                               7503                       \n",
       "2155                                              21288                       \n",
       "2156                                               7258                       \n",
       "2157                                              31175                       \n",
       "\n",
       "      Totalpriceforinstatestudentslivingoncampus201617DRVIC2016  \\\n",
       "2153                                              26750           \n",
       "2154                                              32440           \n",
       "2155                                              42455           \n",
       "2156                                              22042           \n",
       "2157                                              38460           \n",
       "\n",
       "      Totalpriceforoutofstatestudentslivingoncampus201617DRVIC2016  \\\n",
       "2153                                              26750              \n",
       "2154                                              32440              \n",
       "2155                                              42455              \n",
       "2156                                              22282              \n",
       "2157                                              38460              \n",
       "\n",
       "      PercentadmittedtotalDRVADM2016  PercentadmittedmenDRVADM2016  \\\n",
       "2153                              50                            57   \n",
       "2154                              61                            63   \n",
       "2155                              55                            58   \n",
       "2156                              67                            66   \n",
       "2157                              68                            61   \n",
       "\n",
       "      PercentadmittedwomenDRVADM2016  \\\n",
       "2153                              45   \n",
       "2154                              60   \n",
       "2155                              53   \n",
       "2156                              68   \n",
       "2157                              74   \n",
       "\n",
       "                          ...                        \\\n",
       "2153                      ...                         \n",
       "2154                      ...                         \n",
       "2155                      ...                         \n",
       "2156                      ...                         \n",
       "2157                      ...                         \n",
       "\n",
       "      FulltimeenrollmentDRVEF2016  ParttimeenrollmentDRVEF2016  \\\n",
       "2153                          372                           52   \n",
       "2154                         3891                          612   \n",
       "2155                         1109                           91   \n",
       "2156                         9497                         3146   \n",
       "2157                           61                            0   \n",
       "\n",
       "      GraduationratetotalcohortDRVGR2016  GraduationratemenDRVGR2016  \\\n",
       "2153                                  49                          36   \n",
       "2154                                  61                          55   \n",
       "2155                                  47                          37   \n",
       "2156                                  30                          29   \n",
       "2157                                  50                          50   \n",
       "\n",
       "      GraduationratewomenDRVGR2016  \\\n",
       "2153                            59   \n",
       "2154                            66   \n",
       "2155                            53   \n",
       "2156                            32   \n",
       "2157                            50   \n",
       "\n",
       "      GraduationrateBachelordegreewithin4yearstotalDRVGR2016  \\\n",
       "2153                                                 42        \n",
       "2154                                                 39        \n",
       "2155                                                 39        \n",
       "2156                                                 11        \n",
       "2157                                                 50        \n",
       "\n",
       "      GraduationrateBachelordegreewithin5yearstotalDRVGR2016  \\\n",
       "2153                                                 60        \n",
       "2154                                                 57        \n",
       "2155                                                 42        \n",
       "2156                                                 25        \n",
       "2157                                                 50        \n",
       "\n",
       "      GraduationrateBachelordegreewithin6yearstotalDRVGR2016  \\\n",
       "2153                                                 68        \n",
       "2154                                                 60        \n",
       "2155                                                 42        \n",
       "2156                                                 31        \n",
       "2157                                                 50        \n",
       "\n",
       "      CorerevenuestotaldollarsDFR2005  \\\n",
       "2153                          5066337   \n",
       "2154                         53435412   \n",
       "2155                         14231078   \n",
       "2156                        153729326   \n",
       "2157                                0   \n",
       "\n",
       "      TuitionandfeesasapercentofcorerevenuesDFR2005  \n",
       "2153                                             61  \n",
       "2154                                             76  \n",
       "2155                                             30  \n",
       "2156                                             41  \n",
       "2157                                              0  \n",
       "\n",
       "[5 rows x 36 columns]"
      ]
     },
     "execution_count": 21,
     "metadata": {},
     "output_type": "execute_result"
    }
   ],
   "source": [
    "import pandas as pd\n",
    "import matplotlib.pyplot as plt\n",
    "import numpy as np\n",
    "%matplotlib inline\n",
    "global headers\n",
    "\n",
    "df = pd.read_csv('clean_data_21.csv')\n",
    "df.dropna(how=\"all\", inplace=True) # drops the empty line at file-end\n",
    "\n",
    "df.tail()"
   ]
  },
  {
   "cell_type": "code",
   "execution_count": 22,
   "metadata": {},
   "outputs": [
    {
     "name": "stdout",
     "output_type": "stream",
     "text": [
      "Index(['UnitID', 'InstitutionName',\n",
      "       'Averagenetpricestudentsawardedgrantorscholarshipaid201516SFA1516',\n",
      "       'PercentoffulltimefirsttimeundergraduatesawardedanyfinancialaidSFA1516',\n",
      "       'AverageamountoffederalstatelocalorinstitutionalgrantaidawardedSFA1516',\n",
      "       'Totalpriceforinstatestudentslivingoncampus201617DRVIC2016',\n",
      "       'Totalpriceforoutofstatestudentslivingoncampus201617DRVIC2016',\n",
      "       'PercentadmittedtotalDRVADM2016', 'PercentadmittedmenDRVADM2016',\n",
      "       'PercentadmittedwomenDRVADM2016', 'Fulltimeretentionrate2016EF2016D',\n",
      "       'Parttimeretentionrate2016EF2016D', 'UndergraduateenrollmentDRVEF2016',\n",
      "       'GraduateenrollmentDRVEF2016',\n",
      "       'NondegreecertificateseekingundergraduateenrollmentDRVEF2016',\n",
      "       'ContinuingdegreecertificateseekingundergraduateenrollmentDRVEF2016',\n",
      "       'TransferindegreecertificateseekingundergraduateenrollmentDRVEF2016',\n",
      "       'FirsttimedegreecertificateseekingundergraduateenrollmentDRVEF2016',\n",
      "       'FulltimegraduateenrollmentDRVEF2016',\n",
      "       'ParttimeundergraduateenrollmentDRVEF2016',\n",
      "       'ParttimegraduateenrollmentDRVEF2016',\n",
      "       'FulltimeundergraduateenrollmentDRVEF2016',\n",
      "       'PercentoffirsttimeundergraduatesinstateDRVEF2016',\n",
      "       'PercentoffirsttimeundergraduatesoutofstateDRVEF2016',\n",
      "       'PercentoffirsttimeundergraduatesforeigncountriesDRVEF2016',\n",
      "       'PercentoffirsttimeundergraduatesresidenceunknownDRVEF2016',\n",
      "       'FulltimeenrollmentDRVEF2016', 'ParttimeenrollmentDRVEF2016',\n",
      "       'GraduationratetotalcohortDRVGR2016', 'GraduationratemenDRVGR2016',\n",
      "       'GraduationratewomenDRVGR2016',\n",
      "       'GraduationrateBachelordegreewithin4yearstotalDRVGR2016',\n",
      "       'GraduationrateBachelordegreewithin5yearstotalDRVGR2016',\n",
      "       'GraduationrateBachelordegreewithin6yearstotalDRVGR2016',\n",
      "       'CorerevenuestotaldollarsDFR2005',\n",
      "       'TuitionandfeesasapercentofcorerevenuesDFR2005'],\n",
      "      dtype='object')\n",
      "[[2557  115]\n",
      " [  19    6]\n",
      " [6380  738]\n",
      " ...\n",
      " [ 733   61]\n",
      " [7540  532]\n",
      " [  48    6]]\n"
     ]
    },
    {
     "name": "stderr",
     "output_type": "stream",
     "text": [
      "/anaconda3/lib/python3.6/site-packages/ipykernel_launcher.py:3: FutureWarning: Method .as_matrix will be removed in a future version. Use .values instead.\n",
      "  This is separate from the ipykernel package so we can avoid doing imports until\n",
      "/anaconda3/lib/python3.6/site-packages/ipykernel_launcher.py:6: FutureWarning: Method .as_matrix will be removed in a future version. Use .values instead.\n",
      "  \n"
     ]
    },
    {
     "name": "stdout",
     "output_type": "stream",
     "text": [
      "Converged 90\n"
     ]
    },
    {
     "data": {
      "image/png": "[encoded data removed]",
      "text/plain": [
       "<Figure size 432x288 with 1 Axes>"
      ]
     },
     "metadata": {},
     "output_type": "display_data"
    }
   ],
   "source": [
    "\n",
    "print(df.columns)\n",
    "print(df.as_matrix(columns=df.columns[15:17]))\n",
    "\n",
    "\n",
    "k_mean_cluster(df.as_matrix(columns=df.columns[15:17]), 10)"
   ]
  },
  {
   "cell_type": "code",
   "execution_count": 23,
   "metadata": {},
   "outputs": [
    {
     "name": "stdout",
     "output_type": "stream",
     "text": [
      "Index(['UnitID', 'InstitutionName',\n",
      "       'Averagenetpricestudentsawardedgrantorscholarshipaid201516SFA1516',\n",
      "       'PercentoffulltimefirsttimeundergraduatesawardedanyfinancialaidSFA1516',\n",
      "       'AverageamountoffederalstatelocalorinstitutionalgrantaidawardedSFA1516',\n",
      "       'Totalpriceforinstatestudentslivingoncampus201617DRVIC2016',\n",
      "       'Totalpriceforoutofstatestudentslivingoncampus201617DRVIC2016',\n",
      "       'PercentadmittedtotalDRVADM2016', 'PercentadmittedmenDRVADM2016',\n",
      "       'PercentadmittedwomenDRVADM2016', 'Fulltimeretentionrate2016EF2016D',\n",
      "       'Parttimeretentionrate2016EF2016D', 'UndergraduateenrollmentDRVEF2016',\n",
      "       'GraduateenrollmentDRVEF2016',\n",
      "       'NondegreecertificateseekingundergraduateenrollmentDRVEF2016',\n",
      "       'ContinuingdegreecertificateseekingundergraduateenrollmentDRVEF2016',\n",
      "       'TransferindegreecertificateseekingundergraduateenrollmentDRVEF2016',\n",
      "       'FirsttimedegreecertificateseekingundergraduateenrollmentDRVEF2016',\n",
      "       'FulltimegraduateenrollmentDRVEF2016',\n",
      "       'ParttimeundergraduateenrollmentDRVEF2016',\n",
      "       'ParttimegraduateenrollmentDRVEF2016',\n",
      "       'FulltimeundergraduateenrollmentDRVEF2016',\n",
      "       'PercentoffirsttimeundergraduatesinstateDRVEF2016',\n",
      "       'PercentoffirsttimeundergraduatesoutofstateDRVEF2016',\n",
      "       'PercentoffirsttimeundergraduatesforeigncountriesDRVEF2016',\n",
      "       'PercentoffirsttimeundergraduatesresidenceunknownDRVEF2016',\n",
      "       'FulltimeenrollmentDRVEF2016', 'ParttimeenrollmentDRVEF2016',\n",
      "       'GraduationratetotalcohortDRVGR2016', 'GraduationratemenDRVGR2016',\n",
      "       'GraduationratewomenDRVGR2016',\n",
      "       'GraduationrateBachelordegreewithin4yearstotalDRVGR2016',\n",
      "       'GraduationrateBachelordegreewithin5yearstotalDRVGR2016',\n",
      "       'GraduationrateBachelordegreewithin6yearstotalDRVGR2016',\n",
      "       'CorerevenuestotaldollarsDFR2005',\n",
      "       'TuitionandfeesasapercentofcorerevenuesDFR2005'],\n",
      "      dtype='object')\n",
      "[[45980 45980    51    48    53]\n",
      " [    0     0     0     0     0]\n",
      " [41234 41234     0     0     0]\n",
      " ...\n",
      " [42455 42455    55    58    53]\n",
      " [22042 22282    67    66    68]\n",
      " [38460 38460    68    61    74]]\n"
     ]
    },
    {
     "name": "stderr",
     "output_type": "stream",
     "text": [
      "/anaconda3/lib/python3.6/site-packages/ipykernel_launcher.py:2: FutureWarning: Method .as_matrix will be removed in a future version. Use .values instead.\n",
      "  \n",
      "/anaconda3/lib/python3.6/site-packages/ipykernel_launcher.py:5: FutureWarning: Method .as_matrix will be removed in a future version. Use .values instead.\n",
      "  \"\"\"\n"
     ]
    },
    {
     "name": "stdout",
     "output_type": "stream",
     "text": [
      "Converged 35\n"
     ]
    },
    {
     "data": {
      "image/png": "[encoded data removed]",
      "text/plain": [
       "<Figure size 432x288 with 1 Axes>"
      ]
     },
     "metadata": {},
     "output_type": "display_data"
    }
   ],
   "source": [
    "print(df.columns)\n",
    "print(df.as_matrix(columns=df.columns[5:10]))\n",
    "\n",
    "\n",
    "k_mean_cluster(df.as_matrix(columns=df.columns[15:17]), 5)"
   ]
  },
  {
   "cell_type": "code",
   "execution_count": 24,
   "metadata": {},
   "outputs": [
    {
     "name": "stdout",
     "output_type": "stream",
     "text": [
      "Index(['UnitID', 'InstitutionName',\n",
      "       'Averagenetpricestudentsawardedgrantorscholarshipaid201516SFA1516',\n",
      "       'PercentoffulltimefirsttimeundergraduatesawardedanyfinancialaidSFA1516',\n",
      "       'AverageamountoffederalstatelocalorinstitutionalgrantaidawardedSFA1516',\n",
      "       'Totalpriceforinstatestudentslivingoncampus201617DRVIC2016',\n",
      "       'Totalpriceforoutofstatestudentslivingoncampus201617DRVIC2016',\n",
      "       'PercentadmittedtotalDRVADM2016', 'PercentadmittedmenDRVADM2016',\n",
      "       'PercentadmittedwomenDRVADM2016', 'Fulltimeretentionrate2016EF2016D',\n",
      "       'Parttimeretentionrate2016EF2016D', 'UndergraduateenrollmentDRVEF2016',\n",
      "       'GraduateenrollmentDRVEF2016',\n",
      "       'NondegreecertificateseekingundergraduateenrollmentDRVEF2016',\n",
      "       'ContinuingdegreecertificateseekingundergraduateenrollmentDRVEF2016',\n",
      "       'TransferindegreecertificateseekingundergraduateenrollmentDRVEF2016',\n",
      "       'FirsttimedegreecertificateseekingundergraduateenrollmentDRVEF2016',\n",
      "       'FulltimegraduateenrollmentDRVEF2016',\n",
      "       'ParttimeundergraduateenrollmentDRVEF2016',\n",
      "       'ParttimegraduateenrollmentDRVEF2016',\n",
      "       'FulltimeundergraduateenrollmentDRVEF2016',\n",
      "       'PercentoffirsttimeundergraduatesinstateDRVEF2016',\n",
      "       'PercentoffirsttimeundergraduatesoutofstateDRVEF2016',\n",
      "       'PercentoffirsttimeundergraduatesforeigncountriesDRVEF2016',\n",
      "       'PercentoffirsttimeundergraduatesresidenceunknownDRVEF2016',\n",
      "       'FulltimeenrollmentDRVEF2016', 'ParttimeenrollmentDRVEF2016',\n",
      "       'GraduationratetotalcohortDRVGR2016', 'GraduationratemenDRVGR2016',\n",
      "       'GraduationratewomenDRVGR2016',\n",
      "       'GraduationrateBachelordegreewithin4yearstotalDRVGR2016',\n",
      "       'GraduationrateBachelordegreewithin5yearstotalDRVGR2016',\n",
      "       'GraduationrateBachelordegreewithin6yearstotalDRVGR2016',\n",
      "       'CorerevenuestotaldollarsDFR2005',\n",
      "       'TuitionandfeesasapercentofcorerevenuesDFR2005'],\n",
      "      dtype='object')\n",
      "[[45980 45980    51    48    53]\n",
      " [    0     0     0     0     0]\n",
      " [41234 41234     0     0     0]\n",
      " ...\n",
      " [42455 42455    55    58    53]\n",
      " [22042 22282    67    66    68]\n",
      " [38460 38460    68    61    74]]\n"
     ]
    },
    {
     "name": "stderr",
     "output_type": "stream",
     "text": [
      "/anaconda3/lib/python3.6/site-packages/ipykernel_launcher.py:2: FutureWarning: Method .as_matrix will be removed in a future version. Use .values instead.\n",
      "  \n",
      "/anaconda3/lib/python3.6/site-packages/ipykernel_launcher.py:5: FutureWarning: Method .as_matrix will be removed in a future version. Use .values instead.\n",
      "  \"\"\"\n"
     ]
    },
    {
     "name": "stdout",
     "output_type": "stream",
     "text": [
      "Converged 39\n"
     ]
    },
    {
     "data": {
      "image/png": "[encoded data removed]",
      "text/plain": [
       "<Figure size 432x288 with 1 Axes>"
      ]
     },
     "metadata": {},
     "output_type": "display_data"
    }
   ],
   "source": [
    "print(df.columns)\n",
    "print(df.as_matrix(columns=df.columns[5:10]))\n",
    "\n",
    "\n",
    "k_mean_cluster(df.as_matrix(columns=df.columns[5:17]), 10)"
   ]
  },
  {
   "cell_type": "code",
   "execution_count": 25,
   "metadata": {},
   "outputs": [
    {
     "name": "stderr",
     "output_type": "stream",
     "text": [
      "/anaconda3/lib/python3.6/site-packages/ipykernel_launcher.py:2: FutureWarning: Method .as_matrix will be removed in a future version. Use .values instead.\n",
      "  \n"
     ]
    },
    {
     "name": "stdout",
     "output_type": "stream",
     "text": [
      "Converged 88\n"
     ]
    },
    {
     "data": {
      "image/png": "[encoded data removed]",
      "text/plain": [
       "<Figure size 432x288 with 1 Axes>"
      ]
     },
     "metadata": {},
     "output_type": "display_data"
    }
   ],
   "source": [
    "\n",
    "k_mean_cluster(df.as_matrix(columns=df.columns[5:40]), 10)"
   ]
  },
  {
   "cell_type": "code",
   "execution_count": 26,
   "metadata": {},
   "outputs": [
    {
     "name": "stderr",
     "output_type": "stream",
     "text": [
      "/anaconda3/lib/python3.6/site-packages/ipykernel_launcher.py:1: FutureWarning: Method .as_matrix will be removed in a future version. Use .values instead.\n",
      "  \"\"\"Entry point for launching an IPython kernel.\n"
     ]
    },
    {
     "name": "stdout",
     "output_type": "stream",
     "text": [
      "Converged 85\n"
     ]
    },
    {
     "data": {
      "image/png": "[encoded data removed]",
      "text/plain": [
       "<Figure size 432x288 with 1 Axes>"
      ]
     },
     "metadata": {},
     "output_type": "display_data"
    }
   ],
   "source": [
    "k_mean_cluster(df.as_matrix(columns=df.columns[20:40]), 10)"
   ]
  },
  {
   "cell_type": "code",
   "execution_count": 27,
   "metadata": {},
   "outputs": [
    {
     "name": "stderr",
     "output_type": "stream",
     "text": [
      "/anaconda3/lib/python3.6/site-packages/ipykernel_launcher.py:1: FutureWarning: Method .as_matrix will be removed in a future version. Use .values instead.\n",
      "  \"\"\"Entry point for launching an IPython kernel.\n"
     ]
    },
    {
     "name": "stdout",
     "output_type": "stream",
     "text": [
      "Converged 41\n"
     ]
    },
    {
     "data": {
      "image/png": "[encoded data removed]",
      "text/plain": [
       "<Figure size 432x288 with 1 Axes>"
      ]
     },
     "metadata": {},
     "output_type": "display_data"
    }
   ],
   "source": [
    "k_mean_cluster(df.as_matrix(columns=df.columns[5:20]), 10)"
   ]
  },
  {
   "cell_type": "code",
   "execution_count": 33,
   "metadata": {},
   "outputs": [
    {
     "name": "stderr",
     "output_type": "stream",
     "text": [
      "/anaconda3/lib/python3.6/site-packages/ipykernel_launcher.py:8: FutureWarning: Method .as_matrix will be removed in a future version. Use .values instead.\n",
      "  \n"
     ]
    },
    {
     "name": "stdout",
     "output_type": "stream",
     "text": [
      "Converged 9\n"
     ]
    },
    {
     "data": {
      "image/png": "[encoded data removed]",
      "text/plain": [
       "<Figure size 432x288 with 1 Axes>"
      ]
     },
     "metadata": {},
     "output_type": "display_data"
    }
   ],
   "source": [
    "import pandas as pd\n",
    "import matplotlib.pyplot as plt\n",
    "import numpy as np\n",
    "%matplotlib inline\n",
    "global headers\n",
    "\n",
    "df = pd.read_csv('clean_data_11.csv')\n",
    "k_mean_cluster(df.as_matrix(columns=df.columns[5:40]), 3)"
   ]
  },
  {
   "cell_type": "code",
   "execution_count": 34,
   "metadata": {},
   "outputs": [
    {
     "name": "stderr",
     "output_type": "stream",
     "text": [
      "/anaconda3/lib/python3.6/site-packages/ipykernel_launcher.py:1: FutureWarning: Method .as_matrix will be removed in a future version. Use .values instead.\n",
      "  \"\"\"Entry point for launching an IPython kernel.\n"
     ]
    },
    {
     "name": "stdout",
     "output_type": "stream",
     "text": [
      "Converged 8\n"
     ]
    },
    {
     "data": {
      "image/png": "[encoded data removed]",
      "text/plain": [
       "<Figure size 432x288 with 1 Axes>"
      ]
     },
     "metadata": {},
     "output_type": "display_data"
    }
   ],
   "source": [
    "k_mean_cluster(df.as_matrix(columns=df.columns[20:25]), 5)"
   ]
  },
  {
   "cell_type": "code",
   "execution_count": null,
   "metadata": {},
   "outputs": [],
   "source": []
  }
 ],
 "metadata": {
  "kernelspec": {
   "display_name": "Python 3",
   "language": "python",
   "name": "python3"
  },
  "language_info": {
   "codemirror_mode": {
    "name": "ipython",
    "version": 3
   },
   "file_extension": ".py",
   "mimetype": "text/x-python",
   "name": "python",
   "nbconvert_exporter": "python",
   "pygments_lexer": "ipython3",
   "version": "3.6.5"
  }
 },
 "nbformat": 4,
 "nbformat_minor": 2
}
